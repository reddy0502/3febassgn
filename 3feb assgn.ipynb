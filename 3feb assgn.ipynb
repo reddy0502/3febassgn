{
 "cells": [
  {
   "cell_type": "code",
   "execution_count": null,
   "id": "94faaa04",
   "metadata": {},
   "outputs": [],
   "source": [
    "ans1:"
   ]
  },
  {
   "cell_type": "markdown",
   "id": "2be3886b",
   "metadata": {},
   "source": [
    "     def is uesd to define a function"
   ]
  },
  {
   "cell_type": "code",
   "execution_count": 2,
   "id": "88d1d9ef",
   "metadata": {},
   "outputs": [],
   "source": [
    "def oddNum():\n",
    "    l=[]\n",
    "    for i in range(1,26):\n",
    "        if i%2!=0:\n",
    "            l.append(i)\n",
    "    return l"
   ]
  },
  {
   "cell_type": "code",
   "execution_count": 3,
   "id": "cecfce80",
   "metadata": {},
   "outputs": [
    {
     "data": {
      "text/plain": [
       "[1, 3, 5, 7, 9, 11, 13, 15, 17, 19, 21, 23, 25]"
      ]
     },
     "execution_count": 3,
     "metadata": {},
     "output_type": "execute_result"
    }
   ],
   "source": [
    "oddNum()"
   ]
  },
  {
   "cell_type": "markdown",
   "id": "c0184dcc",
   "metadata": {},
   "source": [
    "ans2:"
   ]
  },
  {
   "cell_type": "markdown",
   "id": "b59999a8",
   "metadata": {},
   "source": [
    "*args is used to pass a variable number of non-keyword arguments to a function\n",
    "\n",
    "'**kwargs' is used for creating key value pairs i.e, dictionary"
   ]
  },
  {
   "cell_type": "code",
   "execution_count": 4,
   "id": "19db2426",
   "metadata": {},
   "outputs": [],
   "source": [
    "def test1(*args):\n",
    "    return args"
   ]
  },
  {
   "cell_type": "code",
   "execution_count": 5,
   "id": "1b8cfd89",
   "metadata": {},
   "outputs": [
    {
     "data": {
      "text/plain": [
       "(1, 2, 3, 4, 5, 6, 77)"
      ]
     },
     "execution_count": 5,
     "metadata": {},
     "output_type": "execute_result"
    }
   ],
   "source": [
    "test1(1,2,3,4,5,6,77)"
   ]
  },
  {
   "cell_type": "code",
   "execution_count": 6,
   "id": "36daa1e4",
   "metadata": {},
   "outputs": [],
   "source": [
    "def test2(**kwargs):\n",
    "    return kwargs"
   ]
  },
  {
   "cell_type": "code",
   "execution_count": 7,
   "id": "09f1f60d",
   "metadata": {},
   "outputs": [
    {
     "data": {
      "text/plain": [
       "{'a': 1, 'b': 2, 'c': 4, 'd': [1, 2, 3, 4, 5]}"
      ]
     },
     "execution_count": 7,
     "metadata": {},
     "output_type": "execute_result"
    }
   ],
   "source": [
    "test2(a=1,b=2,c=4,d=[1,2,3,4,5])"
   ]
  },
  {
   "cell_type": "markdown",
   "id": "5338d196",
   "metadata": {},
   "source": [
    "ans3:"
   ]
  },
  {
   "cell_type": "markdown",
   "id": "6900b4bc",
   "metadata": {},
   "source": [
    "An Iterator is an object that can be used to loop through collections. We can use for loop to iterate through an iterable object"
   ]
  },
  {
   "cell_type": "code",
   "execution_count": 8,
   "id": "2a03e972",
   "metadata": {},
   "outputs": [],
   "source": [
    "l=[2, 4, 6, 8, 10, 12, 14, 16,\n",
    "18, 20]"
   ]
  },
  {
   "cell_type": "code",
   "execution_count": 9,
   "id": "64271dc8",
   "metadata": {},
   "outputs": [
    {
     "name": "stdout",
     "output_type": "stream",
     "text": [
      "2\n",
      "4\n",
      "6\n",
      "8\n",
      "10\n"
     ]
    }
   ],
   "source": [
    "x=0\n",
    "for i in l:\n",
    "   if x<5:\n",
    "        print(i)\n",
    "        x=x+1\n"
   ]
  },
  {
   "cell_type": "markdown",
   "id": "9da0b181",
   "metadata": {},
   "source": [
    "ans4:"
   ]
  },
  {
   "cell_type": "markdown",
   "id": "0adde8ac",
   "metadata": {},
   "source": [
    "A generator function is a type of function in Python that allows you to generate a sequence of values on the fly instead of computing them all at once and storing them in memory.\n",
    "In Python, generator functions are defined using the \"yield\" keyword instead of \"return\". "
   ]
  },
  {
   "cell_type": "code",
   "execution_count": 10,
   "id": "fe00010f",
   "metadata": {},
   "outputs": [],
   "source": [
    "def testfib(n):\n",
    "    a,b=0,1\n",
    "    for i in range(n):\n",
    "        yield a\n",
    "        a,b=b,a+b"
   ]
  },
  {
   "cell_type": "code",
   "execution_count": 11,
   "id": "e2de9fe0",
   "metadata": {},
   "outputs": [
    {
     "name": "stdout",
     "output_type": "stream",
     "text": [
      "0 1 1 2 3 5 8 13 21 34 "
     ]
    }
   ],
   "source": [
    "for i in testfib(10):\n",
    "    print(i,end=\" \")"
   ]
  },
  {
   "cell_type": "markdown",
   "id": "7e60ed66",
   "metadata": {},
   "source": [
    "ans5:"
   ]
  },
  {
   "cell_type": "markdown",
   "id": "9a3fee0d",
   "metadata": {},
   "source": []
  },
  {
   "cell_type": "code",
   "execution_count": 13,
   "id": "eb7fa9e8",
   "metadata": {},
   "outputs": [],
   "source": [
    "def primenum():\n",
    "    for num in range(2,1001):\n",
    "        prime = True\n",
    "        for i in range(2,num):\n",
    "            if (num%i==0):\n",
    "                prime = False\n",
    "                break\n",
    "        if prime:\n",
    "            yield num"
   ]
  },
  {
   "cell_type": "code",
   "execution_count": 14,
   "id": "7cdec941",
   "metadata": {},
   "outputs": [
    {
     "name": "stdout",
     "output_type": "stream",
     "text": [
      "2\n",
      "3\n",
      "5\n",
      "7\n",
      "11\n",
      "13\n",
      "17\n",
      "19\n",
      "23\n",
      "29\n",
      "31\n",
      "37\n",
      "41\n",
      "43\n",
      "47\n",
      "53\n",
      "59\n",
      "61\n",
      "67\n",
      "71\n"
     ]
    }
   ],
   "source": [
    "j=0\n",
    "for i in primenum():\n",
    "    if j<20:\n",
    "        print(i)\n",
    "        j=j+1;"
   ]
  },
  {
   "cell_type": "code",
   "execution_count": null,
   "id": "3da8ed63",
   "metadata": {},
   "outputs": [],
   "source": []
  }
 ],
 "metadata": {
  "kernelspec": {
   "display_name": "Python 3 (ipykernel)",
   "language": "python",
   "name": "python3"
  },
  "language_info": {
   "codemirror_mode": {
    "name": "ipython",
    "version": 3
   },
   "file_extension": ".py",
   "mimetype": "text/x-python",
   "name": "python",
   "nbconvert_exporter": "python",
   "pygments_lexer": "ipython3",
   "version": "3.9.13"
  }
 },
 "nbformat": 4,
 "nbformat_minor": 5
}
